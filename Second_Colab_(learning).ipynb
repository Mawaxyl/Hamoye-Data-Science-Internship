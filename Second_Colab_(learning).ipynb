{
  "nbformat": 4,
  "nbformat_minor": 0,
  "metadata": {
    "colab": {
      "name": "Second Colab (learning).ipynb",
      "provenance": [],
      "authorship_tag": "ABX9TyMHTHd5ZqR/bbj2VaYLOTD9",
      "include_colab_link": true
    },
    "kernelspec": {
      "name": "python3",
      "display_name": "Python 3"
    }
  },
  "cells": [
    {
      "cell_type": "markdown",
      "metadata": {
        "id": "view-in-github",
        "colab_type": "text"
      },
      "source": [
        "<a href=\"https://colab.research.google.com/github/Mawaxyl/Hamoye-Data-Science-Internship/blob/master/Second_Colab_(learning).ipynb\" target=\"_parent\"><img src=\"https://colab.research.google.com/assets/colab-badge.svg\" alt=\"Open In Colab\"/></a>"
      ]
    },
    {
      "cell_type": "code",
      "metadata": {
        "id": "W7eUTBf13T00",
        "colab_type": "code",
        "colab": {}
      },
      "source": [
        "#@title Form\n",
        "sleeptime =  10#@param {type:\"integer\"}\n"
      ],
      "execution_count": 6,
      "outputs": []
    },
    {
      "cell_type": "code",
      "metadata": {
        "id": "9FOVC2YZHNXG",
        "colab_type": "code",
        "colab": {
          "base_uri": "https://localhost:8080/",
          "height": 51
        },
        "outputId": "67d5b40e-8748-49ea-aa3c-22e9fc806f03"
      },
      "source": [
        "import time\n",
        "print(time.ctime())\n",
        "time.sleep(sleeptime)\n",
        "print (time.ctime())"
      ],
      "execution_count": 7,
      "outputs": [
        {
          "output_type": "stream",
          "text": [
            "Fri Jul  3 23:59:04 2020\n",
            "Fri Jul  3 23:59:14 2020\n"
          ],
          "name": "stdout"
        }
      ]
    },
    {
      "cell_type": "code",
      "metadata": {
        "id": "Hp-8jbEiJntA",
        "colab_type": "code",
        "colab": {
          "base_uri": "https://localhost:8080/",
          "height": 34
        },
        "outputId": "972461d1-49ba-4d2d-c0c3-0ec3ea10cc3b"
      },
      "source": [
        "name = 'Mukthar' #@param {type:\"string\"}\n",
        "print(name)"
      ],
      "execution_count": 9,
      "outputs": [
        {
          "output_type": "stream",
          "text": [
            "Mukthar\n"
          ],
          "name": "stdout"
        }
      ]
    },
    {
      "cell_type": "code",
      "metadata": {
        "id": "7Hr8aZ7yJoze",
        "colab_type": "code",
        "colab": {}
      },
      "source": [
        ""
      ],
      "execution_count": null,
      "outputs": []
    },
    {
      "cell_type": "code",
      "metadata": {
        "id": "pkNl9p4gKReh",
        "colab_type": "code",
        "colab": {
          "base_uri": "https://localhost:8080/",
          "height": 34
        },
        "outputId": "05c2bbb2-af5d-452e-893f-80d51ebe3a21"
      },
      "source": [
        "color = 'red' #@param [\"red\", \"green\", \"blue\"]\n",
        "print(color)"
      ],
      "execution_count": 11,
      "outputs": [
        {
          "output_type": "stream",
          "text": [
            "red\n"
          ],
          "name": "stdout"
        }
      ]
    },
    {
      "cell_type": "code",
      "metadata": {
        "id": "K7-9tsNkKSZo",
        "colab_type": "code",
        "colab": {
          "base_uri": "https://localhost:8080/",
          "height": 34
        },
        "outputId": "903de48b-69e4-49be-f23d-4603649452df"
      },
      "source": [
        "#@title Date fields\n",
        "date_input = '2019-06-03' #@param {type:\"date\"}\n",
        "print(date_input)"
      ],
      "execution_count": 12,
      "outputs": [
        {
          "output_type": "stream",
          "text": [
            "2019-06-03\n"
          ],
          "name": "stdout"
        }
      ]
    },
    {
      "cell_type": "code",
      "metadata": {
        "id": "8zZ5Y07yKp8w",
        "colab_type": "code",
        "colab": {}
      },
      "source": [
        ""
      ],
      "execution_count": null,
      "outputs": []
    }
  ]
}